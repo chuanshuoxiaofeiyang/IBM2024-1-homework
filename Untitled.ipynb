{
 "cells": [
  {
   "cell_type": "markdown",
   "id": "224a664c-71b3-4e9e-979c-ba541f36bf05",
   "metadata": {},
   "source": [
    "# Data Science Tools and Ecosystem"
   ]
  },
  {
   "cell_type": "markdown",
   "id": "0a1640d6-0e9c-467d-a3c6-aef62e5d64f9",
   "metadata": {},
   "source": [
    "This notebook is created as part of a data science course. It covers various topics related to data science, including languages, libraries, and tools."
   ]
  },
  {
   "cell_type": "markdown",
   "id": "72f68026-5ec1-4223-9318-1bf812016d8a",
   "metadata": {},
   "source": [
    "The following are some commonly used data science languages:  \n",
    "1. Python  \n",
    "2. R  \n",
    "3. SQL  \n",
    "4. Julia  \n",
    "5. Java  \n",
    "6. Scala"
   ]
  },
  {
   "cell_type": "markdown",
   "id": "8ba8a62c-a75d-4d40-b12a-1e0d70551f13",
   "metadata": {},
   "source": [
    "Here are some popular data science libraries:  \n",
    "1. NumPy  \n",
    "2. Pandas  \n",
    "3. Matplotlib  \n",
    "4. Scikit-learn  \n",
    "5. TensorFlow  \n",
    "6. PyTorch  \n",
    "7. Seaborn  \n",
    "8. Keras"
   ]
  },
  {
   "cell_type": "markdown",
   "id": "2f8a144f-cf24-49ad-9fa7-ee5eb439704c",
   "metadata": {},
   "source": [
    "The following are some commonly used data science tools and their purposes:  \n",
    "\n",
    "| Tool          | Description                    |  \n",
    "|---------------|--------------------------------|  \n",
    "| Jupyter Notebook | For writing and sharing code and documentation |  \n",
    "| RStudio       | Integrated development environment for R programming |  \n",
    "| Apache Spark  | Framework for distributed data processing |  \n",
    "| Tableau       | Tool for data visualization   |"
   ]
  },
  {
   "cell_type": "markdown",
   "id": "8c29d95e-cdb2-453d-a8a8-0da5d0b32963",
   "metadata": {},
   "source": [
    "### In this section, we demonstrate how to perform simple arithmetic operations, such as addition and multiplication, using Python."
   ]
  },
  {
   "cell_type": "code",
   "execution_count": 13,
   "id": "e2c268c6-de1a-40f5-b338-deda0a9f56dc",
   "metadata": {},
   "outputs": [
    {
     "name": "stdout",
     "output_type": "stream",
     "text": [
      "Multiplication Result: 35\n",
      "Addition Result: 12\n"
     ]
    }
   ],
   "source": [
    "# Example: Multiplication and Addition\n",
    "result_multiplication = 5 * 7\n",
    "result_addition = 5 + 7\n",
    "print(f\"Multiplication Result: {result_multiplication}\")\n",
    "print(f\"Addition Result: {result_addition}\")"
   ]
  },
  {
   "cell_type": "code",
   "execution_count": 25,
   "id": "fa7f2470-18df-475e-a559-f8af407357a4",
   "metadata": {},
   "outputs": [
    {
     "name": "stdout",
     "output_type": "stream",
     "text": [
      "150 minutes is equal to 2.5 hours\n"
     ]
    }
   ],
   "source": [
    "# Convert minutes to hours\n",
    "minutes = 150\n",
    "hours = minutes / 60\n",
    "print(f\"{minutes} minutes is equal to {hours} hours\")"
   ]
  },
  {
   "cell_type": "markdown",
   "id": "25bfee45-0aae-4ccd-bedf-e71f240650b9",
   "metadata": {},
   "source": [
    "The goals of this notebook include:  \n",
    "- Familiarizing with the use of Jupyter Notebook  \n",
    "- Learning about data science languages, libraries, and tools  \n",
    "- Practicing basic Python syntax and arithmetic calculations  \n",
    "- Sharing and presenting notebooks"
   ]
  },
  {
   "cell_type": "markdown",
   "id": "92aa5b0e-6b17-4d37-b61e-4d99e9525f04",
   "metadata": {},
   "source": [
    "## Author  \n",
    "Name: Peilin Feng\n"
   ]
  }
 ],
 "metadata": {
  "kernelspec": {
   "display_name": "Python [conda env:base] *",
   "language": "python",
   "name": "conda-base-py"
  },
  "language_info": {
   "codemirror_mode": {
    "name": "ipython",
    "version": 3
   },
   "file_extension": ".py",
   "mimetype": "text/x-python",
   "name": "python",
   "nbconvert_exporter": "python",
   "pygments_lexer": "ipython3",
   "version": "3.12.7"
  }
 },
 "nbformat": 4,
 "nbformat_minor": 5
}
